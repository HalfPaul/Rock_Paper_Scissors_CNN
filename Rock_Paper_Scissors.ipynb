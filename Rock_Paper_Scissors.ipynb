{
 "cells": [
  {
   "cell_type": "code",
   "execution_count": 1,
   "metadata": {},
   "outputs": [
    {
     "name": "stderr",
     "output_type": "stream",
     "text": [
      "Using TensorFlow backend.\n"
     ]
    }
   ],
   "source": [
    "import tensorflow as tf\n",
    "from tensorflow import keras\n",
    "import matplotlib.pyplot as plt\n",
    "from sklearn.model_selection import train_test_split\n",
    "from keras.preprocessing.image import ImageDataGenerator"
   ]
  },
  {
   "cell_type": "markdown",
   "metadata": {},
   "source": [
    "**We first create image generator which rescales them and does a little distortions on images so that we have better training samples. After that, we import images from their directories.**"
   ]
  },
  {
   "cell_type": "code",
   "execution_count": 2,
   "metadata": {},
   "outputs": [
    {
     "name": "stdout",
     "output_type": "stream",
     "text": [
      "Found 2187 images belonging to 3 classes.\n",
      "Found 436 images belonging to 3 classes.\n"
     ]
    }
   ],
   "source": [
    "data_dir = './data/'\n",
    "\n",
    "\n",
    "im_gen = ImageDataGenerator(rescale = 1./255, horizontal_flip = True, height_shift_range=0.2, vertical_flip = True, validation_split = 0.2)\n",
    "train_gen = im_gen.flow_from_directory(data_dir, target_size=(224, 224), batch_size = 32, class_mode = \"categorical\", shuffle = True)\n",
    "val_gen = im_gen.flow_from_directory(data_dir, target_size=(224,224), batch_size=32, class_mode='categorical', shuffle=False, subset = 'validation')\n"
   ]
  },
  {
   "cell_type": "code",
   "execution_count": 3,
   "metadata": {},
   "outputs": [],
   "source": [
    "model = keras.Sequential([\n",
    "    keras.layers.Conv2D(32, (3, 3), activation = 'relu', input_shape = (224,224,3)),\n",
    "    keras.layers.MaxPooling2D((2, 2)),\n",
    "    keras.layers.Conv2D(64, (3, 3), activation = 'relu'),\n",
    "    keras.layers.MaxPooling2D((2, 2)),\n",
    "    keras.layers.Conv2D(128, (3, 3), activation = 'relu'),\n",
    "    keras.layers.MaxPooling2D((2, 2)),\n",
    "    keras.layers.Conv2D(128, (3, 3), activation = 'relu'),\n",
    "    keras.layers.MaxPooling2D((2, 2)),\n",
    "    keras.layers.Flatten(),\n",
    "    keras.layers.Dropout(0.3),\n",
    "    keras.layers.Dense(64, activation=\"relu\"),\n",
    "    keras.layers.Dense(3, activation = \"softmax\")\n",
    "])"
   ]
  },
  {
   "cell_type": "code",
   "execution_count": 4,
   "metadata": {},
   "outputs": [
    {
     "name": "stdout",
     "output_type": "stream",
     "text": [
      "Model: \"sequential\"\n",
      "_________________________________________________________________\n",
      "Layer (type)                 Output Shape              Param #   \n",
      "=================================================================\n",
      "conv2d (Conv2D)              (None, 222, 222, 32)      896       \n",
      "_________________________________________________________________\n",
      "max_pooling2d (MaxPooling2D) (None, 111, 111, 32)      0         \n",
      "_________________________________________________________________\n",
      "conv2d_1 (Conv2D)            (None, 109, 109, 64)      18496     \n",
      "_________________________________________________________________\n",
      "max_pooling2d_1 (MaxPooling2 (None, 54, 54, 64)        0         \n",
      "_________________________________________________________________\n",
      "conv2d_2 (Conv2D)            (None, 52, 52, 128)       73856     \n",
      "_________________________________________________________________\n",
      "max_pooling2d_2 (MaxPooling2 (None, 26, 26, 128)       0         \n",
      "_________________________________________________________________\n",
      "conv2d_3 (Conv2D)            (None, 24, 24, 128)       147584    \n",
      "_________________________________________________________________\n",
      "max_pooling2d_3 (MaxPooling2 (None, 12, 12, 128)       0         \n",
      "_________________________________________________________________\n",
      "flatten (Flatten)            (None, 18432)             0         \n",
      "_________________________________________________________________\n",
      "dropout (Dropout)            (None, 18432)             0         \n",
      "_________________________________________________________________\n",
      "dense (Dense)                (None, 64)                1179712   \n",
      "_________________________________________________________________\n",
      "dense_1 (Dense)              (None, 3)                 195       \n",
      "=================================================================\n",
      "Total params: 1,420,739\n",
      "Trainable params: 1,420,739\n",
      "Non-trainable params: 0\n",
      "_________________________________________________________________\n"
     ]
    }
   ],
   "source": [
    "model.summary()"
   ]
  },
  {
   "cell_type": "code",
   "execution_count": 5,
   "metadata": {},
   "outputs": [],
   "source": [
    "model.compile(loss = \"categorical_crossentropy\", optimizer = \"sgd\", metrics=[\"accuracy\"])"
   ]
  },
  {
   "cell_type": "code",
   "execution_count": 6,
   "metadata": {},
   "outputs": [
    {
     "name": "stdout",
     "output_type": "stream",
     "text": [
      "Epoch 1/15\n",
      "69/69 [==============================] - 281s 4s/step - loss: 1.0962 - accuracy: 0.3653 - val_loss: 1.0888 - val_accuracy: 0.5069\n",
      "Epoch 2/15\n",
      "69/69 [==============================] - 224s 3s/step - loss: 1.0818 - accuracy: 0.4458 - val_loss: 1.0601 - val_accuracy: 0.6239\n",
      "Epoch 3/15\n",
      "69/69 [==============================] - 223s 3s/step - loss: 1.0210 - accuracy: 0.5359 - val_loss: 0.9505 - val_accuracy: 0.4794\n",
      "Epoch 4/15\n",
      "69/69 [==============================] - 222s 3s/step - loss: 0.8773 - accuracy: 0.6456 - val_loss: 0.9877 - val_accuracy: 0.5596\n",
      "Epoch 5/15\n",
      "69/69 [==============================] - 223s 3s/step - loss: 0.7120 - accuracy: 0.7110 - val_loss: 0.6254 - val_accuracy: 0.7546\n",
      "Epoch 6/15\n",
      "69/69 [==============================] - 221s 3s/step - loss: 0.6014 - accuracy: 0.7705 - val_loss: 0.7058 - val_accuracy: 0.6697\n",
      "Epoch 7/15\n",
      "69/69 [==============================] - 228s 3s/step - loss: 0.5129 - accuracy: 0.8029 - val_loss: 0.4354 - val_accuracy: 0.8326\n",
      "Epoch 8/15\n",
      "69/69 [==============================] - 223s 3s/step - loss: 0.4229 - accuracy: 0.8573 - val_loss: 0.2859 - val_accuracy: 0.9106\n",
      "Epoch 9/15\n",
      "69/69 [==============================] - 222s 3s/step - loss: 0.3516 - accuracy: 0.8784 - val_loss: 0.2738 - val_accuracy: 0.9083\n",
      "Epoch 10/15\n",
      "69/69 [==============================] - 224s 3s/step - loss: 0.2948 - accuracy: 0.8967 - val_loss: 0.1971 - val_accuracy: 0.9404\n",
      "Epoch 11/15\n",
      "69/69 [==============================] - 222s 3s/step - loss: 0.2246 - accuracy: 0.9195 - val_loss: 0.1975 - val_accuracy: 0.9151\n",
      "Epoch 12/15\n",
      "69/69 [==============================] - 222s 3s/step - loss: 0.2158 - accuracy: 0.9268 - val_loss: 0.2331 - val_accuracy: 0.9083\n",
      "Epoch 13/15\n",
      "69/69 [==============================] - 222s 3s/step - loss: 0.1754 - accuracy: 0.9428 - val_loss: 0.1612 - val_accuracy: 0.9404\n",
      "Epoch 14/15\n",
      "69/69 [==============================] - 222s 3s/step - loss: 0.1749 - accuracy: 0.9442 - val_loss: 0.1446 - val_accuracy: 0.9495\n",
      "Epoch 15/15\n",
      "69/69 [==============================] - 224s 3s/step - loss: 0.1864 - accuracy: 0.9410 - val_loss: 0.1227 - val_accuracy: 0.9610\n"
     ]
    }
   ],
   "source": [
    "history = model.fit(train_gen, epochs = 15, validation_data = val_gen)"
   ]
  },
  {
   "cell_type": "code",
   "execution_count": 7,
   "metadata": {},
   "outputs": [],
   "source": [
    "model.save(\"rock_paper_scissors.h5\")"
   ]
  },
  {
   "cell_type": "code",
   "execution_count": 8,
   "metadata": {},
   "outputs": [],
   "source": [
    "acc = history.history[\"accuracy\"]\n",
    "val_acc = history.history[\"val_accuracy\"]\n",
    "loss = history.history[\"loss\"]\n",
    "val_loss = history.history[\"val_loss\"]\n",
    "epochs = range(1, len(acc) + 1)\n"
   ]
  },
  {
   "cell_type": "code",
   "execution_count": 9,
   "metadata": {},
   "outputs": [
    {
     "data": {
      "image/png": "[encoded data removed]",
      "text/plain": [
       "<Figure size 432x288 with 1 Axes>"
      ]
     },
     "metadata": {
      "needs_background": "light"
     },
     "output_type": "display_data"
    }
   ],
   "source": [
    "plt.plot(epochs, acc, 'bo', label=\"accuracy\")\n",
    "plt.plot(epochs, val_acc, 'b', label=\"val_accuracy\")\n",
    "plt.plot(epochs, loss, 'go', label=\"loss\")\n",
    "plt.plot(epochs, val_loss, 'g', label=\"val_loss\")\n",
    "plt.legend()\n",
    "plt.show()\n"
   ]
  },
  {
   "cell_type": "code",
   "execution_count": 10,
   "metadata": {},
   "outputs": [],
   "source": [
    "def classes(prediction):\n",
    "    if prediction[0][0] == 1:\n",
    "        return 'Scissors'\n",
    "    elif prediction[0][1] == 1:\n",
    "        return 'Rock'\n",
    "    else:\n",
    "        return 'Paper'"
   ]
  },
  {
   "cell_type": "code",
   "execution_count": 14,
   "metadata": {},
   "outputs": [
    {
     "data": {
      "text/plain": [
       "'Scissors'"
      ]
     },
     "execution_count": 14,
     "metadata": {},
     "output_type": "execute_result"
    }
   ],
   "source": [
    "import numpy as np\n",
    "from keras.preprocessing import image\n",
    "\n",
    "img_path = 'scissors.png'\n",
    "img = image.load_img(img_path, target_size = (224,224))\n",
    "img = image.img_to_array(img)\n",
    "img = np.expand_dims(img, axis = 0)\n",
    "img /= 255\n",
    "prediction = (model.predict(img) > 0.5).astype(\"int32\")\n",
    "classes(prediction)\n"
   ]
  },
  {
   "cell_type": "code",
   "execution_count": 21,
   "metadata": {},
   "outputs": [
    {
     "data": {
      "text/plain": [
       "array([[1, 0, 0]])"
      ]
     },
     "execution_count": 21,
     "metadata": {},
     "output_type": "execute_result"
    }
   ],
   "source": [
    "img_path2 = 'rock.jpg'\n",
    "img2 = image.load_img(img_path2, target_size = (224,224))\n",
    "img2 = image.img_to_array(img2)\n",
    "img2 = np.expand_dims(img2, axis = 0)\n",
    "img2 /= 255\n",
    "prediction2 = (model.predict(img2) > 0.5).astype(\"int32\")\n",
    "prediction2"
   ]
  },
  {
   "cell_type": "code",
   "execution_count": null,
   "metadata": {},
   "outputs": [],
   "source": []
  }
 ],
 "metadata": {
  "kernelspec": {
   "display_name": "Python 3",
   "language": "python",
   "name": "python3"
  },
  "language_info": {
   "codemirror_mode": {
    "name": "ipython",
    "version": 3
   },
   "file_extension": ".py",
   "mimetype": "text/x-python",
   "name": "python",
   "nbconvert_exporter": "python",
   "pygments_lexer": "ipython3",
   "version": "3.7.0"
  }
 },
 "nbformat": 4,
 "nbformat_minor": 4
}
